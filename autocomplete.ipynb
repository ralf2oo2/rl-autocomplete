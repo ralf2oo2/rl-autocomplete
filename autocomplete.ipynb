{
 "cells": [
  {
   "cell_type": "markdown",
   "metadata": {},
   "source": [
    "## RL Autocomplete\n",
    "\n",
    "In this notebook I'm going to show my process of making a reinforcement learning agent that will guess the next letter in a string and potentially use it for autocomplete. I decided to do this project because I wanted to do a non gaming related reinforcement learning project. I know that there are better ways to do autocomplete but I'm curious if reinforcement learning would work. The project will be using a PPO model that I will create using pytorch and chatgpt. The reason for this choice is because I used a PPO model in my previous project and I want to get a better understanding of how it works"
   ]
  },
  {
   "cell_type": "markdown",
   "metadata": {},
   "source": [
    "First I made the pytorch module. Initially I was using convolutional layers in my module but those are usually used for pattern recognision like machine vision. I found that most people use linear layers so my module also uses linear layers"
   ]
  },
  {
   "cell_type": "code",
   "execution_count": null,
   "metadata": {},
   "outputs": [],
   "source": [
    "import torch.nn as nn\n",
    "\n",
    "class ActorCritic(nn.Module):\n",
    "\n",
    "    def __init__(self, nb_actions):\n",
    "        super().__init__()\n",
    "        self.head = nn.Sequential(nn.Linear(4, 64), nn.Tanh(), nn.Linear(64, 64), nn.Tanh())\n",
    "        self.actor = nn.Sequential(nn.Linear(64, nb_actions))\n",
    "        self.critic = nn.Sequential(nn.Linear(64, 1))\n",
    "    \n",
    "    def forward(self, x):\n",
    "        h = self.head(x)\n",
    "        return self.actor(h), self.critic(h)"
   ]
  }
 ],
 "metadata": {
  "language_info": {
   "name": "python"
  }
 },
 "nbformat": 4,
 "nbformat_minor": 2
}
